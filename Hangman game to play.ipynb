{
 "cells": [
  {
   "cell_type": "markdown",
   "id": "457f2251",
   "metadata": {},
   "source": [
    "# Hangman Game"
   ]
  },
  {
   "cell_type": "markdown",
   "id": "79d969f8",
   "metadata": {},
   "source": [
    "## Define functions\n",
    "- `Display words`: is dictionary were all the words in the game is stored in a name : word_list\n",
    " "
   ]
  },
  {
   "cell_type": "code",
   "execution_count": 1,
   "id": "234fa2d8",
   "metadata": {},
   "outputs": [],
   "source": [
    "import random\n",
    "# words for player to check\n",
    "word_list=['hello','house','apples','mouses','pencils','labels','books','money']\n",
    "# word display on the screen\n",
    "def display_word(word): \n",
    "        word = random.choice(word)\n",
    "        return word\n"
   ]
  },
  {
   "cell_type": "markdown",
   "id": "6aad3d10",
   "metadata": {},
   "source": [
    "# 2 Display of the Man\n",
    "- `Display Hangman:is a function were are the type of Hangman is saved in a figure format\n",
    "- display of the man changes according the player mistake.\n",
    "- if the player guess the right letter the man lives\n",
    "- if the player guess a wrong letter the man looses the part of the body .\n",
    "- for the first mistake he loose is hand\n",
    "- for the sixth mistake he looses is head\n"
   ]
  },
  {
   "cell_type": "code",
   "execution_count": 2,
   "id": "d9b158f7",
   "metadata": {},
   "outputs": [],
   "source": [
    "def display_hangman(wrong_guess): \n",
    "    \n",
    "    if wrong_guess == 0:\n",
    "        print(' +--')\n",
    "        print('   |')\n",
    "        print('   |')\n",
    "        print('   |')\n",
    "        print('====')\n",
    "    elif(wrong_guess  ==1):  \n",
    "        print('  +--')\n",
    "        print('  O |')\n",
    "        print('    |')\n",
    "        print('    |')\n",
    "        print('=====')\n",
    "    elif(wrong_guess ==2):\n",
    "        print('  +--')\n",
    "        print('  O |')\n",
    "        print('  | |')\n",
    "        print('    |')\n",
    "        print('=====')\n",
    "    elif(wrong_guess ==3):\n",
    "        print('  +--')\n",
    "        print('  O |')\n",
    "        print(' /|\\|')\n",
    "        print('    |')\n",
    "        print('=====')\n",
    "    elif(wrong_guess ==4):\n",
    "        print('  +--')\n",
    "        print('  O |')\n",
    "        print(' /|\\|')\n",
    "        print('   \\|')\n",
    "        print('=====')\n",
    "    elif(wrong_guess ==5):\n",
    "        print('  +--')\n",
    "        print('  O |')\n",
    "        print(' /|\\|')\n",
    "        print(' / \\|')\n",
    "        print('=====')\n",
    "    elif (wrong_guess ==6):   \n",
    "        print('     ')\n",
    "        print('     ')\n",
    "        print('     ')"
   ]
  },
  {
   "cell_type": "markdown",
   "id": "84678861",
   "metadata": {},
   "source": [
    "# Define the guessed_letter\n",
    " -  Here we check the user input if he choose the letter \n",
    " - if the player guess the letter right it shows the message you guessed the right letter\n",
    " - if the player guess the letter wrong it shows the message you guessed the wrong letter\n",
    "    "
   ]
  },
  {
   "cell_type": "code",
   "execution_count": 3,
   "id": "efd82fa0",
   "metadata": {},
   "outputs": [],
   "source": [
    "def guessed_letter(user_input,letters):\n",
    "    if user_input in letters:\n",
    "        print( \"Well guessed! Please enter a new letter: \")\n",
    "        #guessed_letter.append(user_input)\n",
    "        print(user_input)\n",
    "        return True\n",
    "        \n",
    "    elif user_input  not in letters:\n",
    "        print('Wrong guess. Please try again')\n",
    "        return False"
   ]
  },
  {
   "cell_type": "markdown",
   "id": "d488a895",
   "metadata": {},
   "source": [
    "# Display the status of the remaining word\n",
    "- in this we check how many letters checked are right and how many are remaining"
   ]
  },
  {
   "cell_type": "code",
   "execution_count": 4,
   "id": "0a70b2a1",
   "metadata": {},
   "outputs": [],
   "source": [
    "def status_display (letters, guessed_letter,empty_spaces):\n",
    "    for order, i in enumerate(letters):\n",
    "        if guessed_letter == i:\n",
    "            empty_spaces[order] = guessed_letter\n",
    "            #print(empty_spaces)\n",
    "    print(' '.join(empty_spaces))\n",
    "    return empty_spaces"
   ]
  },
  {
   "cell_type": "markdown",
   "id": "22880933",
   "metadata": {},
   "source": [
    "# Reply\n",
    "- Help of this function if the player choose the right letter it helps to move the next letter."
   ]
  },
  {
   "cell_type": "code",
   "execution_count": 10,
   "id": "829d9595",
   "metadata": {},
   "outputs": [
    {
     "ename": "TypeError",
     "evalue": "guessed_letter() missing 2 required positional arguments: 'user_input' and 'letters'",
     "output_type": "error",
     "traceback": [
      "\u001b[1;31m---------------------------------------------------------------------------\u001b[0m",
      "\u001b[1;31mTypeError\u001b[0m                                 Traceback (most recent call last)",
      "Input \u001b[1;32mIn [10]\u001b[0m, in \u001b[0;36m<cell line: 4>\u001b[1;34m()\u001b[0m\n\u001b[0;32m      1\u001b[0m \u001b[38;5;28;01mdef\u001b[39;00m \u001b[38;5;21mreplay\u001b[39m():\n\u001b[0;32m      2\u001b[0m     \u001b[38;5;28;01mreturn\u001b[39;00m \u001b[38;5;28minput\u001b[39m(\u001b[38;5;124m\"\u001b[39m\u001b[38;5;124mPlease enter a new letter? \u001b[39m\u001b[38;5;124m\"\u001b[39m)\u001b[38;5;241m.\u001b[39mlower()\n\u001b[1;32m----> 4\u001b[0m \u001b[43mguessed_letter\u001b[49m\u001b[43m(\u001b[49m\u001b[43m)\u001b[49m\n\u001b[0;32m      7\u001b[0m replay()\n",
      "\u001b[1;31mTypeError\u001b[0m: guessed_letter() missing 2 required positional arguments: 'user_input' and 'letters'"
     ]
    }
   ],
   "source": [
    "def replay():\n",
    "    return input(\"Please enter a new letter? \").lower()\n",
    "\n",
    "guessed_letter()\n",
    "\n",
    "\n",
    "replay()"
   ]
  },
  {
   "cell_type": "markdown",
   "id": "639e16ab",
   "metadata": {},
   "source": [
    "# Win Check \n",
    "- Help of the this function the check all the words are right "
   ]
  },
  {
   "cell_type": "code",
   "execution_count": 8,
   "id": "e38885b9",
   "metadata": {},
   "outputs": [],
   "source": [
    "def win_check(empty_spaces, guessed_letter):\n",
    "    return empty_spaces == guessed_letter "
   ]
  },
  {
   "cell_type": "markdown",
   "id": "20283e2a",
   "metadata": {},
   "source": [
    "# Logic \n",
    "\n",
    "1. Asking the player input to start the game \n",
    "2. prompting the player to start the game if the player press 'y' the games start\n",
    "3. displaying a hanging post and the number letter to guess changes he have it is displace it the code breaks  \n",
    "4. once the games started the there will be six number of guess and zero wrong guess\n",
    "- using the random.choice method the words t"
   ]
  },
  {
   "cell_type": "code",
   "execution_count": null,
   "id": "6dcbf370",
   "metadata": {},
   "outputs": [
    {
     "name": "stdout",
     "output_type": "stream",
     "text": [
      "     \n",
      "     \n",
      "     \n",
      "_ a _ _ a _ e _\n",
      "\u001b[93m You have these letter already ['e', 'a', 'x', 's', 't', 'f', 'u', 'n']\n",
      "\u001b[91m You have not saved the man\n"
     ]
    }
   ],
   "source": [
    "\n",
    "\n",
    "from IPython.display import clear_output\n",
    "\n",
    "while True:\n",
    "   \n",
    "  \n",
    "    # To check if player wants to play \n",
    "    play_game = input(\"Ready to play Hangman? Type a letter to start. Y/N    \")\n",
    "    \n",
    "     # welcome to the player\n",
    "    if play_game.lower().startswith( \"y\"):\n",
    "        play_game=True\n",
    "        print('\\033[93m',\"You are playing Hangman, Welcome!\")\n",
    "    else:\n",
    "        print('\\033[97m',\"You are a looser\")\n",
    "        play_game =False\n",
    "        break     \n",
    "     # 6 guess left\n",
    "        total_number_guess = 6\n",
    "        print(total_number_guess)\n",
    "\n",
    "     \n",
    "\n",
    "    while play_game :\n",
    "        # informing player how many guesses left\n",
    "        total_number_guess = 6 \n",
    "        wrong_guess=0\n",
    "        print('\\033[96m',f'you have {total_number_guess} total number of life ')\n",
    "    \n",
    "        # to create a reandom word and display it\n",
    "        word_list=['hello','house','apples','mouses','pencils','labels','books','money',\"absence\",\n",
    "                   \"abuse\",\"account\",\"accident\",\"beneath\",\"bend\",\"benefit\",\"biology\",\"bitter\",\"candidate\",\n",
    "                   \"campaign\",\"camera\",\"capacity\",\"capture\",\"deaf\",\"daughter\",\"deal\",\"decorate\",\"dialogue\",\n",
    "                   \"economy\",\"finance\",\"educate\",\"efficient\",\"supportive\",\"elderly\",\"flight\",\"folk\",\"flame\",\n",
    "                   \"frustration\",\"garbage\",\"gather\",\"gentle\",\"global\",\"hilarious\",\"intelligence\",\"jazz\",\"knife\",\n",
    "                   \"longevity\",\"momument\",\"nonsense\",\"nobody\",\"turmeric\",\"utilize\",\"sashimi\",\"reconfigure\",\n",
    "                   \"wheat\",\"yellowish\",\"zone\"]\n",
    "        random_word = display_word(word_list)\n",
    "        \n",
    "        letters = display_word(word_list)  # it is string\n",
    "        spaces=[\"_\" for c in random_word ] # it is list\n",
    "        display_hangman(wrong_guess) # display\n",
    "        print('\\033[95m',spaces) \n",
    "    \n",
    "        win =win_check(spaces,[letter for letter in letters]) \n",
    "        used_letter = []\n",
    "        while win==False and wrong_guess <= 5:\n",
    "            \n",
    "            \n",
    "    \n",
    "            # asking for a player input\n",
    "            print('\\033[96m',f\"You Got {total_number_guess} guess left\")\n",
    "    \n",
    "            user_input = input(\"Please enter a letter:  \").lower() # first letter\n",
    "            used_letter.append(user_input)\n",
    "            \n",
    "            # check whether input letter is right or wrong\n",
    "            guessed_letter_var = guessed_letter(user_input,letters)\n",
    "            \n",
    "        \n",
    "            if guessed_letter_var == True: \n",
    "            # informing the player that he is right\n",
    "                print('Your correct')\n",
    "                clear_output(wait=False)\n",
    "                display_hangman(wrong_guess)\n",
    "                #status_display # \n",
    "                spaces=status_display(letters, user_input,spaces)\n",
    "                print('\\033[93m',f\"You have these letter already {used_letter}\")\n",
    "                win =win_check(spaces,[letter for letter in letters])\n",
    "                \n",
    "            \n",
    "            elif guessed_letter_var == False: \n",
    "                print('Your are wrong')\n",
    "                clear_output(wait=False)\n",
    "                total_number_guess =total_number_guess-1\n",
    "                wrong_guess= wrong_guess+1\n",
    "                display_hangman(wrong_guess)\n",
    "                spaces=status_display(letters, user_input,spaces)\n",
    "                # add +- 1 to # of count_guess left\n",
    "                \n",
    "                print('\\033[93m',f\"You have these letter already {used_letter}\")\n",
    "        \n",
    "               \n",
    "        # conclusion for the game\n",
    "        if win== True :\n",
    "            display_hangman(wrong_guess)\n",
    "            print('\\033[92m',\"Congratulations! You have saved a man from Hanging\")\n",
    "        else:\n",
    "            print('\\033[91m','You have not saved the man')\n",
    "        \n",
    "        # ask if player wants to play again\n",
    "        \n",
    "        play_game = input(\" Do you want to play again this game? Y/N \").lower()\n",
    "        if play_game.lower().startswith(\"y\"):\n",
    "            play_game = True\n",
    "        else:\n",
    "            play_game = False\n",
    "            print(\"Thanks for playing!\")\n",
    "            break\n",
    "    if play_game==False:\n",
    "        break"
   ]
  },
  {
   "cell_type": "code",
   "execution_count": null,
   "id": "cce672f4",
   "metadata": {},
   "outputs": [],
   "source": []
  },
  {
   "cell_type": "code",
   "execution_count": null,
   "id": "0aa55129",
   "metadata": {},
   "outputs": [],
   "source": []
  },
  {
   "cell_type": "code",
   "execution_count": null,
   "id": "95612b03",
   "metadata": {},
   "outputs": [],
   "source": []
  }
 ],
 "metadata": {
  "hide_input": false,
  "kernelspec": {
   "display_name": "Python 3 (ipykernel)",
   "language": "python",
   "name": "python3"
  },
  "language_info": {
   "codemirror_mode": {
    "name": "ipython",
    "version": 3
   },
   "file_extension": ".py",
   "mimetype": "text/x-python",
   "name": "python",
   "nbconvert_exporter": "python",
   "pygments_lexer": "ipython3",
   "version": "3.9.12"
  },
  "toc": {
   "base_numbering": 1,
   "nav_menu": {},
   "number_sections": true,
   "sideBar": true,
   "skip_h1_title": false,
   "title_cell": "Table of Contents",
   "title_sidebar": "Contents",
   "toc_cell": false,
   "toc_position": {},
   "toc_section_display": true,
   "toc_window_display": false
  }
 },
 "nbformat": 4,
 "nbformat_minor": 5
}
