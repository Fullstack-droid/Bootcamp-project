{
 "cells": [
  {
   "cell_type": "markdown",
   "id": "457f2251",
   "metadata": {},
   "source": [
    "#*** Hangman Game ***"
   ]
  },
  {
   "cell_type": "markdown",
   "id": "79d969f8",
   "metadata": {},
   "source": [
    "# I. Defined functions"
   ]
  },
  {
   "cell_type": "markdown",
   "id": "7bd7cbc0",
   "metadata": {},
   "source": [
    "# 1.  Dictionary of random_created_words\n",
    "\n",
    "It creates a dictionary with random_created_words "
   ]
  },
  {
   "cell_type": "code",
   "execution_count": 35,
   "id": "234fa2d8",
   "metadata": {},
   "outputs": [],
   "source": [
    "import random\n",
    "\n",
    "word_list=['hello','house','apples','mouses','pencils','labels','books','money',\"absence\",\n",
    "                   \"abuse\",\"account\",\"accident\",\"beneath\",\"bend\",\"benefit\",\"biology\",\"bitter\",\"candidate\",\n",
    "                   \"campaign\",\"camera\",\"capacity\",\"capture\",\"deaf\",\"daughter\",\"deal\",\"decorate\",\"dialogue\",\n",
    "                   \"economy\",\"finance\",\"educate\",\"efficient\",\"supportive\",\"elderly\",\"flight\",\"folk\",\"flame\",\n",
    "                   \"frustration\",\"garbage\",\"gather\",\"gentle\",\"global\",\"hilarious\",\"intelligence\",\"jazz\",\"knife\",\n",
    "                   \"longevity\",\"momument\",\"nonsense\",\"nobody\",\"turmeric\",\"utilize\",\"sashimi\",\"reconfigure\",\n",
    "                   \"wheat\",\"yellowish\",\"zone\"\n",
    "          ]\n",
    "def display_word(word): \n",
    "        word = random.choice(word)\n",
    "        return word"
   ]
  },
  {
   "cell_type": "markdown",
   "id": "6aad3d10",
   "metadata": {},
   "source": [
    "# 2. Display of a hanging post \n",
    "\n",
    "6 attempts allowed"
   ]
  },
  {
   "cell_type": "code",
   "execution_count": 14,
   "id": "d9b158f7",
   "metadata": {},
   "outputs": [],
   "source": [
    "def display_hangman(wrong_guess): \n",
    "    if wrong_guess == 0:\n",
    "        print(' +--')\n",
    "        print('   |')\n",
    "        print('   |')\n",
    "        print('   |')\n",
    "        print('====')\n",
    "    elif(wrong_guess  ==1):  \n",
    "        print('  +--')\n",
    "        print('  O |')\n",
    "        print('    |')\n",
    "        print('    |')\n",
    "        print('=====')\n",
    "    elif(wrong_guess ==2):\n",
    "        print('  +--')\n",
    "        print('  O |')\n",
    "        print('  | |')\n",
    "        print('    |')\n",
    "        print('=====')\n",
    "    elif(wrong_guess ==3):\n",
    "        print('  +--')\n",
    "        print('  O |')\n",
    "        print(' /|\\|')\n",
    "        print('    |')\n",
    "        print('=====')\n",
    "    elif(wrong_guess ==4):\n",
    "        print('  +--')\n",
    "        print('  O |')\n",
    "        print(' /|\\|')\n",
    "        print('   \\|')\n",
    "        print('=====')\n",
    "    elif(wrong_guess ==5):\n",
    "        print('  +--')\n",
    "        print('  O |')\n",
    "        print(' /|\\|')\n",
    "        print(' / \\|')\n",
    "        print('=====')\n",
    "    elif (wrong_guess ==6):   \n",
    "        print('     ')\n",
    "        print('     ')\n",
    "        print('     ')"
   ]
  },
  {
   "cell_type": "markdown",
   "id": "84678861",
   "metadata": {},
   "source": [
    "# 3. User input prompted \n",
    "\n",
    "Checking if user input (guessed_letter) is matching the word to be guessed: True / False\n",
    "If player guesses wrong,1 attempt is added to the counter.\n",
    "    \n",
    "    \n",
    "    "
   ]
  },
  {
   "cell_type": "code",
   "execution_count": 30,
   "id": "efd82fa0",
   "metadata": {},
   "outputs": [],
   "source": [
    "def guessed_letter(user_input,letters):\n",
    "    if user_input in letters:\n",
    "        print(\"Well guessed! Please enter a new letter: \")\n",
    "        print(user_input)\n",
    "        return True\n",
    "        \n",
    "    elif user_input  not in letters:\n",
    "        print(\"Wrong guess. Please try again\")\n",
    "        return False"
   ]
  },
  {
   "cell_type": "markdown",
   "id": "d488a895",
   "metadata": {},
   "source": [
    "# 4.  Display the status of letters guessed \n",
    "\n",
    "Checking letters guessed "
   ]
  },
  {
   "cell_type": "code",
   "execution_count": null,
   "id": "0a70b2a1",
   "metadata": {},
   "outputs": [],
   "source": [
    "def status_display (letters, guessed_letter,empty_spaces):\n",
    "    for order, i in enumerate(letters):\n",
    "        if guessed_letter == i:\n",
    "            empty_spaces[order] = guessed_letter\n",
    "    print(' '.join(empty_spaces))\n",
    "    return empty_spaces\n",
    "\n",
    "status_display(letters, guessed_letter,empty_spaces)"
   ]
  },
  {
   "cell_type": "markdown",
   "id": "22880933",
   "metadata": {},
   "source": [
    "# 5. Next guess prompt to player\n",
    "\n",
    "Depending on the guessed_letter, next guessed is prompted."
   ]
  },
  {
   "cell_type": "code",
   "execution_count": 20,
   "id": "829d9595",
   "metadata": {},
   "outputs": [],
   "source": [
    "def replay():\n",
    "    return input(\"Please enter a new letter? \").lower()"
   ]
  },
  {
   "cell_type": "markdown",
   "id": "639e16ab",
   "metadata": {},
   "source": [
    "# 6. Win Check \n",
    "\n",
    "Has the player guessed all the letters matching the word to be guessed."
   ]
  },
  {
   "cell_type": "code",
   "execution_count": 18,
   "id": "e38885b9",
   "metadata": {},
   "outputs": [],
   "source": [
    "def win_check(empty_spaces, guessed_letter):\n",
    "    return empty_spaces == guessed_letter "
   ]
  },
  {
   "cell_type": "markdown",
   "id": "d4377362",
   "metadata": {},
   "source": [
    "# II. Play the game\n"
   ]
  },
  {
   "cell_type": "code",
   "execution_count": null,
   "id": "e7efd550",
   "metadata": {},
   "outputs": [],
   "source": [
    "\n",
    "from IPython.display import clear_output\n",
    "\n",
    "while True:\n",
    "\n",
    "    play_game = input(\"Ready to play Hangman? Type a letter to start. Y/N    \")\n",
    "    \n",
    "    if play_game.lower().startswith( \"y\"):\n",
    "        play_game=True\n",
    "        print('\\033[93m',\"You are playing Hangman, Welcome!\")\n",
    "    else:\n",
    "        print('\\033[97m',\"You are a looser\")\n",
    "        play_game =False\n",
    "        break     \n",
    "     \n",
    "        total_number_guess = 6\n",
    "        print(total_number_guess)\n",
    "\n",
    "     \n",
    "\n",
    "    while play_game :\n",
    "        # informing player how many guesses left\n",
    "        total_number_guess = 6 \n",
    "        wrong_guess=0\n",
    "        print('\\033[96m',f'you have {total_number_guess} total number of life ')\n",
    "    \n",
    "        # to create a reandom word and display it\n",
    "        word_list=['hello','house','apples','mouses','pencils','labels','books','money',\"absence\",\n",
    "                   \"abuse\",\"account\",\"accident\",\"beneath\",\"bend\",\"benefit\",\"biology\",\"bitter\",\"candidate\",\n",
    "                   \"campaign\",\"camera\",\"capacity\",\"capture\",\"deaf\",\"daughter\",\"deal\",\"decorate\",\"dialogue\",\n",
    "                   \"economy\",\"finance\",\"educate\",\"efficient\",\"supportive\",\"elderly\",\"flight\",\"folk\",\"flame\",\n",
    "                   \"frustration\",\"garbage\",\"gather\",\"gentle\",\"global\",\"hilarious\",\"intelligence\",\"jazz\",\"knife\",\n",
    "                   \"longevity\",\"momument\",\"nonsense\",\"nobody\",\"turmeric\",\"utilize\",\"sashimi\",\"reconfigure\",\n",
    "                   \"wheat\",\"yellowish\",\"zone\"]\n",
    "        random_word = display_word(word_list)\n",
    "        \n",
    "        letters = display_word(word_list)  # it is string\n",
    "        spaces=[\"_\" for c in random_word ] # it is list\n",
    "        display_hangman(wrong_guess) # display\n",
    "        print('\\033[95m',spaces) \n",
    "    \n",
    "        win =win_check(spaces,[letter for letter in letters]) \n",
    "        used_letter = []\n",
    "        while win==False and wrong_guess <= 5:\n",
    "            \n",
    "        \n",
    "            print('\\033[96m',f\"You Got {total_number_guess} guess left\")\n",
    "    \n",
    "            user_input = input(\"Please enter a letter:  \").lower() # first letter\n",
    "            used_letter.append(user_input)\n",
    "            \n",
    "\n",
    "            guessed_letter_var = guessed_letter(user_input,letters)\n",
    "            \n",
    "        \n",
    "            if guessed_letter_var == True: \n",
    "                print('Your correct')\n",
    "                clear_output(wait=False)\n",
    "                display_hangman(wrong_guess)\n",
    "                spaces=status_display(letters, user_input,spaces)\n",
    "                print('\\033[93m',f\"You have these letter already {used_letter}\")\n",
    "                win =win_check(spaces,[letter for letter in letters])\n",
    "                \n",
    "            \n",
    "            elif guessed_letter_var == False: \n",
    "                print('Your are wrong')\n",
    "                clear_output(wait=False)\n",
    "                total_number_guess =total_number_guess-1\n",
    "                wrong_guess= wrong_guess+1\n",
    "                display_hangman(wrong_guess)\n",
    "                spaces=status_display(letters, user_input,spaces) \n",
    "                print('\\033[93m',f\"You have these letter already {used_letter}\")\n",
    "        \n",
    "               \n",
    "        if win== True :\n",
    "            display_hangman(wrong_guess)\n",
    "            print('\\033[92m',\"Congratulations! You have saved a man from Hanging\")\n",
    "        else:\n",
    "            print('\\033[91m','You have not saved the man')\n",
    "        \n",
    "        \n",
    "        play_game = input(\" Do you want to play again this game? Y/N \").lower()\n",
    "        if play_game.lower().startswith(\"y\"):\n",
    "            play_game = True\n",
    "        else:\n",
    "            play_game = False\n",
    "            print(\"Thanks for playing!\")\n",
    "            break\n",
    "    if play_game==False:\n",
    "        break       "
   ]
  },
  {
   "cell_type": "code",
   "execution_count": null,
   "id": "cce672f4",
   "metadata": {},
   "outputs": [],
   "source": []
  },
  {
   "cell_type": "code",
   "execution_count": null,
   "id": "0aa55129",
   "metadata": {},
   "outputs": [],
   "source": []
  },
  {
   "cell_type": "code",
   "execution_count": null,
   "id": "95612b03",
   "metadata": {},
   "outputs": [],
   "source": []
  }
 ],
 "metadata": {
  "hide_input": false,
  "kernelspec": {
   "display_name": "Python 3 (ipykernel)",
   "language": "python",
   "name": "python3"
  },
  "language_info": {
   "codemirror_mode": {
    "name": "ipython",
    "version": 3
   },
   "file_extension": ".py",
   "mimetype": "text/x-python",
   "name": "python",
   "nbconvert_exporter": "python",
   "pygments_lexer": "ipython3",
   "version": "3.9.12"
  },
  "toc": {
   "base_numbering": 1,
   "nav_menu": {},
   "number_sections": true,
   "sideBar": true,
   "skip_h1_title": false,
   "title_cell": "Table of Contents",
   "title_sidebar": "Contents",
   "toc_cell": false,
   "toc_position": {},
   "toc_section_display": true,
   "toc_window_display": false
  }
 },
 "nbformat": 4,
 "nbformat_minor": 5
}
